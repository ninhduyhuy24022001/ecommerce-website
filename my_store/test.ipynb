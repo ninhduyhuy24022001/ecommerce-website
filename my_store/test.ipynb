{
 "cells": [
  {
   "cell_type": "code",
   "execution_count": 1,
   "metadata": {},
   "outputs": [],
   "source": [
    "class Cart(object):\n",
    "    def __init__(self, request):\n",
    "        self.session = request.session\n",
    "        cart = self.session.get('cart', '')\n",
    "\n",
    "        if not cart:\n",
    "            cart = self.session['cart'] = {}\n",
    "        \n",
    "        self.cart = cart\n",
    "    \n",
    "    def __iter__(self):\n",
    "        for p in self.cart.keys():\n",
    "            self.cart[str(p)]['product'] = 1\n",
    "        \n",
    "        for item in self.cart.values():\n",
    "            item['total_price'] = int(item['product'].price * item['quantity'])\n",
    "\n",
    "            yield item"
   ]
  },
  {
   "cell_type": "code",
   "execution_count": 4,
   "metadata": {},
   "outputs": [
    {
     "data": {
      "text/plain": [
       "{'a': 3, 'b': 2}"
      ]
     },
     "execution_count": 4,
     "metadata": {},
     "output_type": "execute_result"
    }
   ],
   "source": []
  }
 ],
 "metadata": {
  "kernelspec": {
   "display_name": "django",
   "language": "python",
   "name": "python3"
  },
  "language_info": {
   "codemirror_mode": {
    "name": "ipython",
    "version": 3
   },
   "file_extension": ".py",
   "mimetype": "text/x-python",
   "name": "python",
   "nbconvert_exporter": "python",
   "pygments_lexer": "ipython3",
   "version": "3.8.18"
  }
 },
 "nbformat": 4,
 "nbformat_minor": 2
}
